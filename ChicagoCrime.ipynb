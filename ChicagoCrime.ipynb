{
  "cells": [
    {
      "cell_type": "markdown",
      "metadata": {
        "id": "view-in-github",
        "colab_type": "text"
      },
      "source": [
        "<a href=\"https://colab.research.google.com/github/Nas25s/Nas25s/blob/main/ChicagoCrime.ipynb\" target=\"_parent\"><img src=\"https://colab.research.google.com/assets/colab-badge.svg\" alt=\"Open In Colab\"/></a>"
      ]
    },
    {
      "cell_type": "code",
      "execution_count": null,
      "metadata": {
        "id": "b7OZ-OwqvQNX"
      },
      "outputs": [],
      "source": [
        "#Library installation\n",
        "%%capture\n",
        "!pip install pyspark==3.5.0\n",
        "!pip install gdown"
      ]
    },
    {
      "cell_type": "markdown",
      "metadata": {
        "id": "oUADSPrjv0sB"
      },
      "source": [
        "Get Data\n"
      ]
    },
    {
      "cell_type": "code",
      "execution_count": null,
      "metadata": {
        "id": "_yRvhcMBv2mA"
      },
      "outputs": [],
      "source": [
        "data_link = 'https://drive.google.com/u/0/uc?id=1wRGDX25AyYWw2eA771CCbvugxYrRQOtw'"
      ]
    },
    {
      "cell_type": "markdown",
      "source": [],
      "metadata": {
        "id": "TUennxXQefqA"
      }
    },
    {
      "cell_type": "code",
      "execution_count": null,
      "metadata": {
        "colab": {
          "base_uri": "https://localhost:8080/"
        },
        "id": "Ss0C3jg1zLFF",
        "outputId": "04f6c926-517d-47db-c040-e7fd65e9467e"
      },
      "outputs": [
        {
          "output_type": "stream",
          "name": "stdout",
          "text": [
            "Mounted at /content/drive\n"
          ]
        }
      ],
      "source": [
        "from google.colab import drive\n",
        "drive.mount('/content/drive')"
      ]
    },
    {
      "cell_type": "code",
      "execution_count": null,
      "metadata": {
        "id": "ERpmUcFezfrS"
      },
      "outputs": [],
      "source": [
        "compressed_file_path = '/content/drive/MyDrive/CrimeInsightsRawData/Crimes_2001_to_Present.csv.zip'\n",
        "!mkdir -p /content/drive/MyDrive/CrimeInsightsRawData"
      ]
    },
    {
      "cell_type": "code",
      "source": [
        "%%capture\n",
        "import gdown\n",
        "gdown.download(data_link,compressed_file_path)"
      ],
      "metadata": {
        "id": "XviuBb9KeYWB"
      },
      "execution_count": null,
      "outputs": []
    },
    {
      "cell_type": "code",
      "source": [
        "!unzip -o /content/drive/MyDrive/CrimeInsightsRawData/Crimes_2001_to_Present.csv.zip -d /content/drive/MyDrive/CrimeInsightsRawData/"
      ],
      "metadata": {
        "colab": {
          "base_uri": "https://localhost:8080/"
        },
        "id": "eeo5Y-WzhcZn",
        "outputId": "e5e2eee5-0e4d-438e-ca71-4d6635b2321d"
      },
      "execution_count": null,
      "outputs": [
        {
          "output_type": "stream",
          "name": "stdout",
          "text": [
            "Archive:  /content/drive/MyDrive/CrimeInsightsRawData/Crimes_2001_to_Present.csv.zip\n",
            "  inflating: /content/drive/MyDrive/CrimeInsightsRawData/Crimes_2001_to_Present.csv  \n",
            "  inflating: /content/drive/MyDrive/CrimeInsightsRawData/__MACOSX/._Crimes_2001_to_Present.csv  \n"
          ]
        }
      ]
    },
    {
      "cell_type": "code",
      "source": [
        "file_path = '/content/drive/MyDrive/CrimeInsightsRawData/Crimes_2001_to_Present.csv'"
      ],
      "metadata": {
        "id": "omiD9KcGhiNe"
      },
      "execution_count": null,
      "outputs": []
    },
    {
      "cell_type": "markdown",
      "metadata": {
        "id": "-ppLgcHpv0PH"
      },
      "source": []
    },
    {
      "cell_type": "code",
      "execution_count": null,
      "metadata": {
        "id": "ZRntXjZM1HcM"
      },
      "outputs": [],
      "source": [
        "from pyspark import SparkContext\n",
        "from pyspark.sql import SparkSession\n",
        "from pyspark.sql import DataFrame\n",
        "from pyspark.sql.types import *\n",
        "from pyspark.sql.functions import *"
      ]
    },
    {
      "cell_type": "code",
      "source": [
        "spark = SparkSession.builder.appName(\"CrimeInsights\")\\\n",
        ".config(\"spark.driver.memory\", \"10g\")\\\n",
        ".getOrCreate()"
      ],
      "metadata": {
        "id": "b6tNKsj63xH3"
      },
      "execution_count": null,
      "outputs": []
    },
    {
      "cell_type": "code",
      "source": [
        "schema = StructType([StructField(\"ID\", IntegerType(), True),\n",
        "                            StructField(\"Case Number\", StringType(), True),\n",
        "                            StructField(\"Date\", StringType(), True ),\n",
        "                            StructField(\"Block\", StringType(), True),\n",
        "                            StructField(\"IUCR\", StringType(), True),\n",
        "                            StructField(\"Primary Type\", StringType(), True  ),\n",
        "                            StructField(\"Description\", StringType(), True ),\n",
        "                            StructField(\"Location Description\", StringType(), True ),\n",
        "                            StructField(\"Arrest\", BooleanType(), True),\n",
        "                            StructField(\"Domestic\", BooleanType(), True),\n",
        "                            StructField(\"Beat\", StringType(), True),\n",
        "                            StructField(\"District\", StringType(), True),\n",
        "                            StructField(\"Ward\", IntegerType(), True),\n",
        "                            StructField(\"Community Area\", IntegerType(), True),\n",
        "                            StructField(\"FBI Code\", StringType(), True ),\n",
        "                            StructField(\"X Coordinate\", DoubleType(), True),\n",
        "                            StructField(\"Y Coordinate\", DoubleType(), True ),\n",
        "                            StructField(\"Year\", IntegerType(), True),\n",
        "                            StructField(\"Updated On\", DateType(), True ),\n",
        "                            StructField(\"Latitude\", DoubleType(), True),\n",
        "                            StructField(\"Longitude\", DoubleType(), True),\n",
        "                            StructField(\"Location\", StringType(), True )\n",
        "                            ])"
      ],
      "metadata": {
        "id": "b8Xuo5hg6d_N"
      },
      "execution_count": null,
      "outputs": []
    },
    {
      "cell_type": "code",
      "source": [
        "df = spark.read.csv(file_path,header=True,schema=schema)\n",
        "df"
      ],
      "metadata": {
        "colab": {
          "base_uri": "https://localhost:8080/"
        },
        "id": "M2sjOwgv3_Eh",
        "outputId": "153538aa-6d7a-4031-f6f0-015c55c35344"
      },
      "execution_count": null,
      "outputs": [
        {
          "output_type": "execute_result",
          "data": {
            "text/plain": [
              "DataFrame[ID: int, Case Number: string, Date: string, Block: string, IUCR: string, Primary Type: string, Description: string, Location Description: string, Arrest: boolean, Domestic: boolean, Beat: string, District: string, Ward: int, Community Area: int, FBI Code: string, X Coordinate: double, Y Coordinate: double, Year: int, Updated On: date, Latitude: double, Longitude: double, Location: string]"
            ]
          },
          "metadata": {},
          "execution_count": 30
        }
      ]
    },
    {
      "cell_type": "code",
      "source": [
        "drop_columns = ['Case Number','FBI Code','Updated On','IUCR','X Coordinate','Y Coordinate','Location','Domestic','Beat','Description','District','Community Area','Block']\n",
        "trimmed_df = df.drop(*drop_columns)\n",
        "casted_df = trimmed_df.withColumn('Date',to_timestamp(col('date'),'MM/dd/yyyy hh:mm:ss a'))\n",
        "casted_df.show()"
      ],
      "metadata": {
        "colab": {
          "base_uri": "https://localhost:8080/"
        },
        "id": "_uzvFQga4JTq",
        "outputId": "79528d2c-2a01-4766-c3be-5cb0ea019bdb"
      },
      "execution_count": null,
      "outputs": [
        {
          "output_type": "stream",
          "name": "stdout",
          "text": [
            "+--------+-------------------+--------------------+--------------------+------+----+----+------------+-------------+\n",
            "|      ID|               Date|        Primary Type|Location Description|Arrest|Ward|Year|    Latitude|    Longitude|\n",
            "+--------+-------------------+--------------------+--------------------+------+----+----+------------+-------------+\n",
            "|11646166|2018-09-01 00:01:00|               THEFT|           RESIDENCE| false|   8|2018|        NULL|         NULL|\n",
            "|11645836|2016-05-01 00:25:00|  DECEPTIVE PRACTICE|                NULL| false|  15|2016|        NULL|         NULL|\n",
            "|11449702|2018-07-31 13:30:00|           NARCOTICS|              STREET|  true|   5|2018|        NULL|         NULL|\n",
            "|11643334|2018-12-19 16:30:00|     CRIMINAL DAMAGE|              STREET| false|  31|2018|        NULL|         NULL|\n",
            "|11645527|2015-02-02 10:00:00|  DECEPTIVE PRACTICE|               OTHER| false|  23|2015|        NULL|         NULL|\n",
            "|11034701|2001-01-01 11:00:00|  DECEPTIVE PRACTICE|           RESIDENCE| false|   8|2001|        NULL|         NULL|\n",
            "|10224881|2015-09-03 18:00:00|     CRIMINAL DAMAGE|           RESIDENCE| false|   4|2015| 41.81399924|-87.598137918|\n",
            "|11230640|2017-12-04 00:00:00|       OTHER OFFENSE|GOVERNMENT BUILDI...|  true|   3|2017|        NULL|         NULL|\n",
            "|11645648|2018-01-01 08:00:00|  DECEPTIVE PRACTICE|           RESIDENCE| false|  30|2018|        NULL|         NULL|\n",
            "|11645959|2018-12-20 16:00:00|       OTHER OFFENSE|           RESIDENCE| false|  33|2018|        NULL|         NULL|\n",
            "|11645557|2018-04-01 00:01:00|  DECEPTIVE PRACTICE|           RESIDENCE| false|   6|2018|        NULL|         NULL|\n",
            "|10225155|2015-09-05 22:42:00|PUBLIC PEACE VIOL...|              STREET|  true|  46|2015|41.954584472|-87.648375776|\n",
            "|11223717|2018-02-04 15:25:00|  DECEPTIVE PRACTICE|                NULL| false|  28|2018|        NULL|         NULL|\n",
            "|11160773|2017-11-17 09:45:00|           NARCOTICS|POLICE FACILITY/V...|  true|  24|2017|        NULL|         NULL|\n",
            "|11645601|2014-06-01 00:01:00|  DECEPTIVE PRACTICE|           RESIDENCE| false|  21|2014|        NULL|         NULL|\n",
            "|10225206|2015-09-06 01:10:00|             BATTERY|     VACANT LOT/LAND| false|   3|2015| 41.80852139| -87.62606631|\n",
            "|11646293|2018-12-20 15:00:00|  DECEPTIVE PRACTICE|           APARTMENT| false|  36|2018|        NULL|         NULL|\n",
            "|10225234|2015-09-06 02:00:00|             BATTERY|            SIDEWALK| false|  28|2015|41.885759278|-87.713588042|\n",
            "|11645833|2012-05-05 12:25:00|  DECEPTIVE PRACTICE|                NULL| false|  29|2012|        NULL|         NULL|\n",
            "|11227287|2017-10-08 03:00:00| CRIM SEXUAL ASSAULT|           RESIDENCE| false|  21|2017|        NULL|         NULL|\n",
            "+--------+-------------------+--------------------+--------------------+------+----+----+------------+-------------+\n",
            "only showing top 20 rows\n",
            "\n"
          ]
        }
      ]
    },
    {
      "cell_type": "code",
      "source": [
        "casted_df.show()"
      ],
      "metadata": {
        "id": "gWYL428Pbt3y"
      },
      "execution_count": null,
      "outputs": []
    },
    {
      "cell_type": "code",
      "source": [
        "parquet_path = '/content/drive/MyDrive/CrimeInsightParquet/'"
      ],
      "metadata": {
        "id": "swd8RQ0c-Y2a"
      },
      "execution_count": null,
      "outputs": []
    },
    {
      "cell_type": "markdown",
      "source": [],
      "metadata": {
        "id": "BPG4qMfC-dhs"
      }
    },
    {
      "cell_type": "code",
      "source": [
        "casted_df.write.parquet(parquet_path,mode='overwrite')"
      ],
      "metadata": {
        "id": "pN_tYe7w9OVm"
      },
      "execution_count": null,
      "outputs": []
    },
    {
      "cell_type": "code",
      "source": [
        "parqued_df = spark.read.parquet(parquet_path)\n",
        "parqued_df.count()"
      ],
      "metadata": {
        "colab": {
          "base_uri": "https://localhost:8080/"
        },
        "id": "gzSz7zTs7Jap",
        "outputId": "8ec8571f-eb9b-482f-c584-6c08eaa1a0d8"
      },
      "execution_count": null,
      "outputs": [
        {
          "output_type": "execute_result",
          "data": {
            "text/plain": [
              "7884044"
            ]
          },
          "metadata": {},
          "execution_count": 34
        }
      ]
    },
    {
      "cell_type": "code",
      "source": [],
      "metadata": {
        "id": "zoY2MpJp_GCs"
      },
      "execution_count": null,
      "outputs": []
    },
    {
      "cell_type": "code",
      "source": [
        "non_na_df = parqued_df.na.drop()\n",
        "non_na_df.count()"
      ],
      "metadata": {
        "colab": {
          "base_uri": "https://localhost:8080/"
        },
        "id": "9pHpoRHY_ILg",
        "outputId": "4f7c2b30-e354-49ef-b8ea-85243b5a57f1"
      },
      "execution_count": null,
      "outputs": [
        {
          "output_type": "execute_result",
          "data": {
            "text/plain": [
              "7181628"
            ]
          },
          "metadata": {},
          "execution_count": 35
        }
      ]
    },
    {
      "cell_type": "code",
      "source": [
        "filter_values = {'STALKING','OBSCENITY','NON-CRIMINAL (SUBJECT SPECIFIED)','GAMBLING','NON - CRIMINAL','LIQUOR LAW VIOLATION','PUBLIC INDECENCY','HUMAN TRAFFICKING','INTIMIDATION','CONCEALED CARRY LICENSE VIOLATION','NON-CRIMINAL','OTHER NARCOTIC VIOLATION'}\n",
        "non_na_df = non_na_df.withColumnRenamed('Primary Type','Primary_Type')\n",
        "filtered_df = non_na_df.filter(~non_na_df.Primary_Type.isin(filter_values))\n",
        "filtered_df.count()"
      ],
      "metadata": {
        "colab": {
          "base_uri": "https://localhost:8080/"
        },
        "id": "g8qnMelM-dG-",
        "outputId": "a8b49955-6009-40cb-83ce-739896242ae4"
      },
      "execution_count": null,
      "outputs": [
        {
          "output_type": "execute_result",
          "data": {
            "text/plain": [
              "7143859"
            ]
          },
          "metadata": {},
          "execution_count": 36
        }
      ]
    },
    {
      "cell_type": "code",
      "source": [
        "\n",
        "filtered_df = filtered_df.withColumn(\"Primary_Type\",\n",
        "          when((col(\"Primary_Type\").isin ('CRIM SEXUAL ASSAULT','PROSTITUTION')) ,'SEX OFFENSE')\n",
        "          .when((col(\"Primary_Type\").isin('WEAPONS VIOLATION','INTERFERENCE WITH PUBLIC OFFICER')) ,'PUBLIC PEACE VIOLATION')\n",
        "          .when((col(\"Primary_Type\") == 'ARSON') ,'CRIMINAL TRESPASS')\n",
        "          .otherwise(col(\"Primary_Type\")))\n",
        "\n",
        "filtered_df.show()"
      ],
      "metadata": {
        "colab": {
          "base_uri": "https://localhost:8080/"
        },
        "id": "VUci3ThtCdng",
        "outputId": "42847721-b39a-4e95-e25e-f1c32816e4c6"
      },
      "execution_count": null,
      "outputs": [
        {
          "output_type": "stream",
          "name": "stdout",
          "text": [
            "+--------+-------------------+--------------------+--------------------+------+----+----+------------+-------------+\n",
            "|      ID|               Date|        Primary_Type|Location Description|Arrest|Ward|Year|    Latitude|    Longitude|\n",
            "+--------+-------------------+--------------------+--------------------+------+----+----+------------+-------------+\n",
            "|13127758|2023-07-03 03:16:00|PUBLIC PEACE VIOL...|              STREET| false|  27|2023|41.893709466| -87.66233707|\n",
            "|13127761|2023-07-02 12:00:00|               THEFT|               ALLEY| false|  46|2023|41.955426474|-87.656160751|\n",
            "|13127767|2023-06-20 11:34:00|CRIMINAL SEXUAL A...|           RESIDENCE| false|  37|2023| 41.90148192|-87.725043718|\n",
            "|13127770|2023-07-03 03:30:00|     CRIMINAL DAMAGE|              STREET| false|  27|2023|41.893709466| -87.66233707|\n",
            "|13127771|2023-07-03 10:30:00|             BATTERY|CHA PARKING LOT /...| false|  28|2023|41.865223036|-87.657458571|\n",
            "|13127772|2023-07-03 08:33:00|  DECEPTIVE PRACTICE|       HOTEL / MOTEL| false|  23|2023| 41.79639731|-87.723251281|\n",
            "|13127773|2023-07-03 11:00:00|       OTHER OFFENSE|           RESIDENCE| false|  21|2023|41.731191974| -87.65928309|\n",
            "|13127774|2023-07-03 12:08:00|           NARCOTICS|            SIDEWALK| false|  27|2023|41.894577935|-87.713848049|\n",
            "|13127775|2023-07-03 11:20:00|  DECEPTIVE PRACTICE|           APARTMENT| false|  49|2023|42.019399237|-87.675049485|\n",
            "|13127776|2023-07-03 03:30:00|            BURGLARY|           APARTMENT| false|   5|2023|41.794516399|-87.583933877|\n",
            "|13127779|2023-05-14 10:00:00|     CRIMINAL DAMAGE|              STREET| false|  28|2023|41.881858277|-87.724091496|\n",
            "|13127784|2023-07-03 09:47:00|   CRIMINAL TRESPASS|PARKING LOT / GAR...| false|  27|2023|41.885300555|-87.667900596|\n",
            "|13127786|2023-07-03 11:00:00|             ASSAULT|CHA HALLWAY / STA...| false|  46|2023|41.967189655|-87.660150847|\n",
            "|13127789|2023-07-03 10:50:00|     CRIMINAL DAMAGE|  SMALL RETAIL STORE| false|  16|2023|41.794822731|-87.645172774|\n",
            "|13127791|2023-07-01 13:00:00|     CRIMINAL DAMAGE|              STREET| false|  34|2023|41.876502431|-87.658015364|\n",
            "|13127793|2023-07-03 09:00:00|OFFENSE INVOLVING...|              STREET| false|   1|2023| 41.90231781|-87.667466797|\n",
            "|13127795|2023-07-03 10:52:00|             ASSAULT|            SIDEWALK| false|  15|2023|41.814827859| -87.67120577|\n",
            "|13127801|2023-07-01 14:45:00|             BATTERY|       PARK PROPERTY| false|  42|2023|41.880898957|-87.619048127|\n",
            "|13127802|2023-06-27 17:00:00| MOTOR VEHICLE THEFT|              STREET| false|  26|2023|41.919142236|-87.714477665|\n",
            "|13127803|2023-06-27 00:01:00|         SEX OFFENSE|           RESIDENCE| false|  38|2023|41.963833841|-87.784480083|\n",
            "+--------+-------------------+--------------------+--------------------+------+----+----+------------+-------------+\n",
            "only showing top 20 rows\n",
            "\n"
          ]
        }
      ]
    },
    {
      "cell_type": "code",
      "source": [
        "filtered_parquet_path = '/content/drive/MyDrive/CrimeInsightParquetFiltered/'"
      ],
      "metadata": {
        "id": "tqzBT4EuE65G"
      },
      "execution_count": null,
      "outputs": []
    },
    {
      "cell_type": "code",
      "source": [
        "filtered_df.write.parquet(filtered_parquet_path,mode='overwrite')"
      ],
      "metadata": {
        "id": "JlBs-xtRE4jL"
      },
      "execution_count": null,
      "outputs": []
    },
    {
      "cell_type": "code",
      "source": [
        "transformed_df= spark.read.parquet(filtered_parquet_path)"
      ],
      "metadata": {
        "id": "jPH-D7eFAfSU"
      },
      "execution_count": null,
      "outputs": []
    },
    {
      "cell_type": "code",
      "source": [
        "transformed_df.printSchema()"
      ],
      "metadata": {
        "colab": {
          "base_uri": "https://localhost:8080/"
        },
        "id": "GJa3261fFQ_O",
        "outputId": "e48b9447-ede6-4f10-f054-19455c621cb0"
      },
      "execution_count": null,
      "outputs": [
        {
          "output_type": "stream",
          "name": "stdout",
          "text": [
            "root\n",
            " |-- ID: integer (nullable = true)\n",
            " |-- Date: timestamp (nullable = true)\n",
            " |-- Primary_Type: string (nullable = true)\n",
            " |-- Location Description: string (nullable = true)\n",
            " |-- Arrest: boolean (nullable = true)\n",
            " |-- Ward: integer (nullable = true)\n",
            " |-- Year: integer (nullable = true)\n",
            " |-- Latitude: double (nullable = true)\n",
            " |-- Longitude: double (nullable = true)\n",
            "\n"
          ]
        }
      ]
    },
    {
      "cell_type": "code",
      "source": [],
      "metadata": {
        "id": "rFsYXepoAeUm"
      },
      "execution_count": null,
      "outputs": []
    },
    {
      "cell_type": "markdown",
      "source": [
        "ML\n"
      ],
      "metadata": {
        "id": "6ChpngyGHRqB"
      }
    },
    {
      "cell_type": "code",
      "source": [
        "from pyspark.ml.feature import VectorAssembler, StringIndexer, VectorIndexer, IndexToString\n",
        "from pyspark.ml.classification import RandomForestClassifier\n",
        "from pyspark.ml.evaluation import MulticlassClassificationEvaluator\n",
        "from pyspark.ml import Pipeline\n",
        "from pyspark.mllib.tree import RandomForest\n",
        "from pyspark.ml.linalg import Vectors\n",
        "from pyspark.ml.feature import VectorAssembler"
      ],
      "metadata": {
        "id": "yukEaJVpHT8n"
      },
      "execution_count": null,
      "outputs": []
    },
    {
      "cell_type": "code",
      "source": [
        "transformed_df=transformed_df.withColumn(\"Week\", weekofyear(col('date')))\n",
        "transformed_df = transformed_df.withColumn(\"Primary_Type\",\n",
        "                                     when(col(\"Primary_Type\").isin('KIDNAPPING','HOMICIDE'),'OTHER OFFENSE')\n",
        "                                     .otherwise(col('Primary_Type')))\n",
        "\n",
        "transformed_df = transformed_df.drop('date')\n",
        "transformed_df.show()"
      ],
      "metadata": {
        "colab": {
          "base_uri": "https://localhost:8080/"
        },
        "id": "BybD7BBaIc1z",
        "outputId": "1c09da62-2cb2-4e2d-f733-81ca114716b4"
      },
      "execution_count": null,
      "outputs": [
        {
          "output_type": "stream",
          "name": "stdout",
          "text": [
            "+-------+-----------------+--------------------+------+----+----+------------+-------------+----+\n",
            "|     ID|     Primary_Type|Location Description|Arrest|Ward|Year|    Latitude|    Longitude|Week|\n",
            "+-------+-----------------+--------------------+------+----+----+------------+-------------+----+\n",
            "|2627839|          BATTERY|SCHOOL, PUBLIC, B...| false|   4|2003|41.805078225|-87.590555884|  11|\n",
            "|2627840|  CRIMINAL DAMAGE|           APARTMENT|  true|  29|2003|41.894733978|-87.773638244|  11|\n",
            "|2627841|         BURGLARY|               OTHER| false|  11|2003|  41.8304572| -87.64609749|  11|\n",
            "|2627842|          BATTERY|            SIDEWALK| false|   7|2003|41.754968838|-87.559974619|  11|\n",
            "|2627844|            THEFT|    DEPARTMENT STORE|  true|  42|2003|41.883500187|-87.627876698|  10|\n",
            "|2627845|        NARCOTICS|CHA PARKING LOT/G...|  true|  28|2003|41.862457487|-87.692520826|  10|\n",
            "|2627847|          BATTERY|           APARTMENT|  true|   5|2003|41.770030877|-87.587998374|  11|\n",
            "|2627849|  CRIMINAL DAMAGE|    RESIDENCE-GARAGE| false|  32|2003|41.939653364|-87.671801538|  10|\n",
            "|2627850|          ROBBERY|          RESTAURANT|  true|   1|2003|41.910370227| -87.68390431|  11|\n",
            "|2627853|        NARCOTICS|              STREET|  true|  49|2003|42.015981051|-87.670941171|   9|\n",
            "|2627855|  CRIMINAL DAMAGE|               OTHER| false|  14|2003| 41.79289135|-87.698659874|  11|\n",
            "|2627857|            THEFT|         GAS STATION| false|  19|2003|41.705902831|-87.681604496|  11|\n",
            "|2627858|  CRIMINAL DAMAGE|              STREET| false|  31|2003|41.921712111|-87.732806861|  11|\n",
            "|2627859|CRIMINAL TRESPASS|CHA PARKING LOT/G...|  true|   3|2003| 41.82835964|-87.626497423|  10|\n",
            "|2627860|          BATTERY|           RESIDENCE| false|  37|2003|41.899130473|-87.748354035|  11|\n",
            "|2627861|          ROBBERY|              STREET| false|  40|2003|41.983755604|-87.704031959|  11|\n",
            "|2627862|    OTHER OFFENSE|COMMERCIAL / BUSI...| false|  42|2003|41.883368801|-87.632413402|  11|\n",
            "|2627864|            THEFT|              STREET| false|  15|2003|41.784043288|-87.670393284|  11|\n",
            "|2627865|         BURGLARY|    RESIDENCE-GARAGE|  true|   8|2003|41.759818573|-87.577377477|  11|\n",
            "|2627866|        NARCOTICS|              STREET|  true|  21|2003|41.729507183|-87.661663661|   9|\n",
            "+-------+-----------------+--------------------+------+----+----+------------+-------------+----+\n",
            "only showing top 20 rows\n",
            "\n"
          ]
        }
      ]
    },
    {
      "cell_type": "code",
      "source": [
        "from pyspark.ml.feature import VectorAssembler, StringIndexer, VectorIndexer, IndexToString\n"
      ],
      "metadata": {
        "id": "W5oYFiCwJY1t"
      },
      "execution_count": null,
      "outputs": []
    },
    {
      "cell_type": "code",
      "source": [],
      "metadata": {
        "id": "262YvmEWJiOI"
      },
      "execution_count": null,
      "outputs": []
    },
    {
      "cell_type": "code",
      "source": [
        "vector_assembler = VectorAssembler(inputCols = [\"Week\"], outputCol=\"features\")"
      ],
      "metadata": {
        "id": "inhf7s0vJf_k"
      },
      "execution_count": null,
      "outputs": []
    },
    {
      "cell_type": "code",
      "source": [
        "vector_assembled_df = vector_assembler.transform(transformed_df)"
      ],
      "metadata": {
        "id": "P5mpH-t3I6mg"
      },
      "execution_count": null,
      "outputs": []
    },
    {
      "cell_type": "code",
      "source": [
        "featureIndexer =  VectorIndexer(inputCol=\"features\", outputCol=\"indexedFeatures\").fit(vector_assembled_df)"
      ],
      "metadata": {
        "id": "wXivW6ZKJrRB"
      },
      "execution_count": null,
      "outputs": []
    },
    {
      "cell_type": "code",
      "source": [
        "labelIndexer = StringIndexer(inputCol=\"Primary_Type\", outputCol=\"indexedLabel\").fit(vector_assembled_df)\n",
        "labelConverter = IndexToString(inputCol=\"prediction\", outputCol=\"predictedLabel\",\n",
        "                               labels=labelIndexer.labels)"
      ],
      "metadata": {
        "id": "H_kdxqGyJuQa"
      },
      "execution_count": null,
      "outputs": []
    },
    {
      "cell_type": "code",
      "source": [],
      "metadata": {
        "id": "MNJoZipvJztd"
      },
      "execution_count": null,
      "outputs": []
    },
    {
      "cell_type": "code",
      "source": [
        "(trainingData, testData) = vector_assembled_df.randomSplit([0.7, 0.3])\n",
        "rf  = RandomForestClassifier(labelCol=\"indexedLabel\",\n",
        "                             featuresCol=\"indexedFeatures\",\n",
        "                             numTrees=100,impurity='gini', maxBins=128)\n"
      ],
      "metadata": {
        "id": "dHkQJTVDJ3qb"
      },
      "execution_count": null,
      "outputs": []
    },
    {
      "cell_type": "code",
      "source": [
        "pipeline = Pipeline(stages=[labelIndexer, featureIndexer, rf,labelConverter])\n"
      ],
      "metadata": {
        "id": "bcMCFue9J-M1"
      },
      "execution_count": null,
      "outputs": []
    },
    {
      "cell_type": "code",
      "source": [
        "model = pipeline.fit(trainingData)\n",
        "\n",
        "predictions = model.transform(testData)\n"
      ],
      "metadata": {
        "id": "PT7xFzLfKAOe"
      },
      "execution_count": null,
      "outputs": []
    },
    {
      "cell_type": "code",
      "source": [
        "predictions.select(\"predictedLabel\", \"Primary_Type\").show()\n",
        "\n",
        "evaluator = MulticlassClassificationEvaluator(\n",
        "    labelCol=\"indexedLabel\", predictionCol=\"prediction\", metricName=\"accuracy\")\n",
        "\n",
        "evaluator2 = MulticlassClassificationEvaluator(\n",
        "    labelCol=\"indexedLabel\", predictionCol=\"prediction\", metricName=\"f1\")\n",
        "\n",
        "\n",
        "accuracy = evaluator.evaluate(predictions)\n",
        "f1 = evaluator2.evaluate(predictions)\n",
        "\n",
        "\n",
        "print(\"accuracy = %g\" % (accuracy))\n",
        "print(\"f1 score = %g\" % (f1))\n",
        "\n",
        "predictions.groupBy(\"predictedLabel\").count().show()"
      ],
      "metadata": {
        "colab": {
          "base_uri": "https://localhost:8080/"
        },
        "id": "QwmH2lNoM7w-",
        "outputId": "930b1b54-ea88-43e1-a177-1adeb08daec3"
      },
      "execution_count": null,
      "outputs": [
        {
          "output_type": "stream",
          "name": "stdout",
          "text": [
            "+--------------+-------------+\n",
            "|predictedLabel| Primary_Type|\n",
            "+--------------+-------------+\n",
            "|         THEFT|OTHER OFFENSE|\n",
            "|         THEFT|OTHER OFFENSE|\n",
            "|         THEFT|OTHER OFFENSE|\n",
            "|         THEFT|OTHER OFFENSE|\n",
            "|         THEFT|OTHER OFFENSE|\n",
            "|         THEFT|OTHER OFFENSE|\n",
            "|         THEFT|OTHER OFFENSE|\n",
            "|         THEFT|OTHER OFFENSE|\n",
            "|         THEFT|OTHER OFFENSE|\n",
            "|         THEFT|OTHER OFFENSE|\n",
            "|         THEFT|OTHER OFFENSE|\n",
            "|         THEFT|OTHER OFFENSE|\n",
            "|         THEFT|OTHER OFFENSE|\n",
            "|         THEFT|OTHER OFFENSE|\n",
            "|         THEFT|OTHER OFFENSE|\n",
            "|         THEFT|OTHER OFFENSE|\n",
            "|         THEFT|OTHER OFFENSE|\n",
            "|         THEFT|OTHER OFFENSE|\n",
            "|         THEFT|OTHER OFFENSE|\n",
            "|         THEFT|OTHER OFFENSE|\n",
            "+--------------+-------------+\n",
            "only showing top 20 rows\n",
            "\n",
            "accuracy = 0.213314\n",
            "f1 score = 0.075006\n",
            "+--------------+-------+\n",
            "|predictedLabel|  count|\n",
            "+--------------+-------+\n",
            "|         THEFT|2144335|\n",
            "+--------------+-------+\n",
            "\n"
          ]
        }
      ]
    },
    {
      "cell_type": "code",
      "source": [],
      "metadata": {
        "id": "7B2CEqvgKOEX"
      },
      "execution_count": null,
      "outputs": []
    },
    {
      "cell_type": "code",
      "source": [
        "\n",
        "from pyspark.ml.feature import OneHotEncoder\n",
        "locationIndexer = StringIndexer(inputCol=\"Location Description\", outputCol=\"indexedLocation\")\\\n",
        "                .fit(transformed_df)\\\n",
        "                .transform(transformed_df)\n",
        "encoded_data = OneHotEncoder(inputCols=[\"indexedLocation\"],outputCols=[\"encodedLocation\"])\\\n",
        "        .fit(locationIndexer)\\\n",
        "        .transform(locationIndexer)"
      ],
      "metadata": {
        "id": "E9kuZUuJKERM"
      },
      "execution_count": null,
      "outputs": []
    },
    {
      "cell_type": "code",
      "source": [
        "vector_assembler = VectorAssembler(inputCols = [\"Latitude\", \"Longitude\", \"Arrest\", \"encodedLocation\"], outputCol=\"features\")\n",
        "df_temp = vector_assembler.transform(encoded_data)\n",
        "featureIndexer =\\\n",
        "    VectorIndexer(inputCol=\"features\", outputCol=\"indexedFeatures\").fit(df_temp)\n",
        "\n",
        "\n",
        "labelIndexer = StringIndexer(inputCol=\"Primary_Type\", outputCol=\"indexedLabel\").fit(df_temp)\n",
        "labelConverter = IndexToString(inputCol=\"prediction\", outputCol=\"predictedLabel\",\n",
        "                               labels=labelIndexer.labels)\n",
        "\n",
        "\n",
        "(trainingData, testData) = df_temp.randomSplit([0.7, 0.3])\n",
        "rf = RandomForestClassifier(labelCol=\"indexedLabel\", featuresCol=\"indexedFeatures\", numTrees=10,impurity='gini', maxBins=32)\n",
        "\n",
        "pipeline = Pipeline(stages=[labelIndexer, featureIndexer, rf,labelConverter])\n",
        "\n",
        "model = pipeline.fit(trainingData)\n",
        "\n",
        "predictions = model.transform(testData)\n",
        "predictions.select(\"predictedLabel\", \"Primary_Type\").show()\n",
        "\n",
        "evaluator = MulticlassClassificationEvaluator(\n",
        "    labelCol=\"indexedLabel\", predictionCol=\"prediction\", metricName=\"accuracy\")\n",
        "\n",
        "evaluator2 = MulticlassClassificationEvaluator(\n",
        "    labelCol=\"indexedLabel\", predictionCol=\"prediction\", metricName=\"f1\")\n",
        "\n",
        "\n",
        "accuracy = evaluator.evaluate(predictions)\n",
        "f1 = evaluator2.evaluate(predictions)\n",
        "\n",
        "\n",
        "print(\"accuracy = %g\" % (accuracy))\n",
        "print(\"f1 score = %g\" % (f1))\n",
        "\n",
        "predictions.groupBy(\"predictedLabel\").count().show()"
      ],
      "metadata": {
        "colab": {
          "base_uri": "https://localhost:8080/"
        },
        "id": "QNuIgN99Kbu9",
        "outputId": "3c7fad70-fd15-431a-83fe-a59af5ca60c4"
      },
      "execution_count": null,
      "outputs": [
        {
          "output_type": "stream",
          "name": "stdout",
          "text": [
            "+--------------+-------------+\n",
            "|predictedLabel| Primary_Type|\n",
            "+--------------+-------------+\n",
            "|         THEFT|OTHER OFFENSE|\n",
            "|     NARCOTICS|OTHER OFFENSE|\n",
            "|         THEFT|OTHER OFFENSE|\n",
            "|         THEFT|OTHER OFFENSE|\n",
            "|         THEFT|OTHER OFFENSE|\n",
            "|     NARCOTICS|OTHER OFFENSE|\n",
            "|         THEFT|OTHER OFFENSE|\n",
            "|       BATTERY|OTHER OFFENSE|\n",
            "|     NARCOTICS|OTHER OFFENSE|\n",
            "|         THEFT|OTHER OFFENSE|\n",
            "|     NARCOTICS|OTHER OFFENSE|\n",
            "|     NARCOTICS|OTHER OFFENSE|\n",
            "|         THEFT|OTHER OFFENSE|\n",
            "|         THEFT|OTHER OFFENSE|\n",
            "|         THEFT|OTHER OFFENSE|\n",
            "|       BATTERY|OTHER OFFENSE|\n",
            "|         THEFT|OTHER OFFENSE|\n",
            "|       BATTERY|OTHER OFFENSE|\n",
            "|       BATTERY|OTHER OFFENSE|\n",
            "|         THEFT|OTHER OFFENSE|\n",
            "+--------------+-------------+\n",
            "only showing top 20 rows\n",
            "\n",
            "accuracy = 0.325511\n",
            "f1 score = 0.216875\n",
            "+--------------+-------+\n",
            "|predictedLabel|  count|\n",
            "+--------------+-------+\n",
            "|         THEFT|1331379|\n",
            "|       BATTERY| 608987|\n",
            "|     NARCOTICS| 204640|\n",
            "+--------------+-------+\n",
            "\n"
          ]
        }
      ]
    },
    {
      "cell_type": "code",
      "source": [
        "from pyspark.sql.types import IntegerType\n",
        "transformed_df = transformed_df.withColumn(\"Ward\", transformed_df[\"Ward\"].cast(IntegerType()))\n"
      ],
      "metadata": {
        "id": "HpXbAh4PKkZ1"
      },
      "execution_count": null,
      "outputs": []
    },
    {
      "cell_type": "code",
      "source": [
        "from pyspark.ml.feature import OneHotEncoder\n",
        "locationIndexer = StringIndexer(inputCol=\"Location Description\", outputCol=\"indexedLocation\")\\\n",
        "                .fit(transformed_df)\\\n",
        "                .transform(transformed_df)\n",
        "encoded_data = OneHotEncoder(inputCols=[\"indexedLocation\"],outputCols=[\"encodedLocation\"])\\\n",
        "        .fit(locationIndexer)\\\n",
        "        .transform(locationIndexer)"
      ],
      "metadata": {
        "id": "sj51WaBTKlNw"
      },
      "execution_count": null,
      "outputs": []
    },
    {
      "cell_type": "code",
      "source": [
        "from pyspark.ml.tuning import CrossValidator, ParamGridBuilder\n",
        "\n",
        "vector_assembler = VectorAssembler(inputCols = [\"Latitude\", \\\n",
        "                            \"Longitude\", \"Arrest\", \"Week\", \"Ward\",\"encodedLocation\"], outputCol=\"features\")\n",
        "\n",
        "indexed_data = vector_assembler.transform(encoded_data)\n",
        "featureIndexer =\\\n",
        "    VectorIndexer(inputCol=\"features\", outputCol=\"indexedFeatures\").fit(indexed_data)\n",
        "\n",
        "\n",
        "labelIndexer = StringIndexer(inputCol=\"Primary_Type\", outputCol=\"indexedLabel\").fit(indexed_data)\n",
        "labelConverter = IndexToString(inputCol=\"prediction\", outputCol=\"predictedLabel\",\n",
        "                               labels=labelIndexer.labels)\n",
        "\n",
        "\n",
        "(trainingData, testData) = indexed_data.randomSplit([0.7, 0.3])\n",
        "rf = RandomForestClassifier(labelCol=\"indexedLabel\", featuresCol=\"indexedFeatures\")\n",
        "\n",
        "pipeline = Pipeline(stages=[labelIndexer, featureIndexer, rf,labelConverter])\n",
        "\n",
        "paramGrid = ParamGridBuilder()\\\n",
        "            .addGrid(rf.numTrees, [3,10])\\\n",
        "            .addGrid(rf.maxBins, [32,64])\\\n",
        "            .addGrid(rf.maxDepth, [5,10])\\\n",
        "            .addGrid(rf.impurity,['gini','entropy'])\\\n",
        "            .build()\n",
        "\n",
        "evaluator = MulticlassClassificationEvaluator(\n",
        "    labelCol=\"indexedLabel\", predictionCol=\"prediction\", metricName=\"accuracy\")\n",
        "\n",
        "crossval = CrossValidator(\\\n",
        "                          estimator=pipeline,\\\n",
        "                         estimatorParamMaps=paramGrid,\\\n",
        "                         evaluator=evaluator,\\\n",
        "                         numFolds=4)\n",
        "\n",
        "\n",
        "model = crossval.fit(trainingData)\n",
        "\n",
        "\n",
        "predictions = model.transform(testData)\n",
        "predictions.select(\"predictedLabel\", \"Primary_Type\").show()\n",
        "\n",
        "evaluator2 = MulticlassClassificationEvaluator(\n",
        "    labelCol=\"indexedLabel\", predictionCol=\"prediction\", metricName=\"f1\")\n",
        "accuracy = evaluator.evaluate(predictions)\n",
        "f1 = evaluator2.evaluate(predictions)\n",
        "print(\"accuracy = %g\" % (accuracy))\n",
        "print(\"f1 score = %g\" % (f1))\n",
        "\n",
        "predictions.groupBy(\"predictedLabel\").count().show()\n",
        "\n",
        "bestPipeline = model.bestModel\n",
        "bestLRModel = bestPipeline.stages[2]\n",
        "bestParams = bestLRModel.extractParamMap()\n",
        "print(\"\\n\".join(\"{}\\t{}\".format(k, v) for k, v in bestParams.items()))"
      ],
      "metadata": {
        "id": "saMJHh5pKm4p"
      },
      "execution_count": null,
      "outputs": []
    },
    {
      "cell_type": "code",
      "source": [],
      "metadata": {
        "id": "m7RvEt5IR5AR"
      },
      "execution_count": null,
      "outputs": []
    }
  ],
  "metadata": {
    "colab": {
      "provenance": [],
      "include_colab_link": true
    },
    "kernelspec": {
      "display_name": "Python 3",
      "name": "python3"
    },
    "language_info": {
      "name": "python"
    }
  },
  "nbformat": 4,
  "nbformat_minor": 0
}